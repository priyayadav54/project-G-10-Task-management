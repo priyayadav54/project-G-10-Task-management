{
 "cells": [
  {
   "cell_type": "markdown",
   "id": "e7ca28e3",
   "metadata": {},
   "source": [
    "AI POWERED TASK MANAGEMENT"
   ]
  },
  {
   "cell_type": "code",
   "execution_count": 67,
   "id": "ee4f0bcb",
   "metadata": {},
   "outputs": [],
   "source": [
    "import pandas as pd\n",
    "import numpy as np\n",
    "import matplotlib.pyplot as plt\n",
    "import nltk\n",
    "from nltk.corpus import stopwords\n",
    "from nltk.stem import WordNetLemmatizer\n",
    "import re\n",
    "import string"
   ]
  },
  {
   "cell_type": "code",
   "execution_count": 83,
   "id": "6d0ddbc4",
   "metadata": {},
   "outputs": [
    {
     "name": "stderr",
     "output_type": "stream",
     "text": [
      "[nltk_data] Downloading package stopwords to\n",
      "[nltk_data]     C:\\Users\\rahul\\AppData\\Roaming\\nltk_data...\n",
      "[nltk_data]   Package stopwords is already up-to-date!\n",
      "[nltk_data] Downloading package punkt to\n",
      "[nltk_data]     C:\\Users\\rahul\\AppData\\Roaming\\nltk_data...\n",
      "[nltk_data]   Package punkt is already up-to-date!\n",
      "[nltk_data] Downloading package punkt_tab to\n",
      "[nltk_data]     C:\\Users\\rahul\\AppData\\Roaming\\nltk_data...\n",
      "[nltk_data]   Unzipping tokenizers\\punkt_tab.zip.\n",
      "[nltk_data] Downloading package wordnet to\n",
      "[nltk_data]     C:\\Users\\rahul\\AppData\\Roaming\\nltk_data...\n",
      "[nltk_data]   Package wordnet is already up-to-date!\n",
      "[nltk_data]   Unzipping tokenizers\\punkt_tab.zip.\n",
      "[nltk_data] Downloading package wordnet to\n",
      "[nltk_data]     C:\\Users\\rahul\\AppData\\Roaming\\nltk_data...\n",
      "[nltk_data]   Package wordnet is already up-to-date!\n"
     ]
    },
    {
     "data": {
      "text/plain": [
       "True"
      ]
     },
     "execution_count": 83,
     "metadata": {},
     "output_type": "execute_result"
    }
   ],
   "source": [
    "# Download NLTK assets (only run once). Comment the code after running\n",
    "nltk.download('stopwords')\n",
    "nltk.download('punkt')\n",
    "nltk.download('punkt_tab')\n",
    "nltk.download('wordnet')"
   ]
  },
  {
   "cell_type": "code",
   "execution_count": 69,
   "id": "a150bf22",
   "metadata": {},
   "outputs": [
    {
     "data": {
      "text/html": [
       "<div>\n",
       "<style scoped>\n",
       "    .dataframe tbody tr th:only-of-type {\n",
       "        vertical-align: middle;\n",
       "    }\n",
       "\n",
       "    .dataframe tbody tr th {\n",
       "        vertical-align: top;\n",
       "    }\n",
       "\n",
       "    .dataframe thead th {\n",
       "        text-align: right;\n",
       "    }\n",
       "</style>\n",
       "<table border=\"1\" class=\"dataframe\">\n",
       "  <thead>\n",
       "    <tr style=\"text-align: right;\">\n",
       "      <th></th>\n",
       "      <th>task_description</th>\n",
       "      <th>creation_date</th>\n",
       "      <th>due_date</th>\n",
       "      <th>priority</th>\n",
       "      <th>task_category</th>\n",
       "      <th>assigned_to</th>\n",
       "      <th>estimated_effort_hours</th>\n",
       "      <th>user_preferred_categories</th>\n",
       "      <th>user_past_completion_time_avg_hours</th>\n",
       "      <th>user_current_workload</th>\n",
       "    </tr>\n",
       "    <tr>\n",
       "      <th>task_id</th>\n",
       "      <th></th>\n",
       "      <th></th>\n",
       "      <th></th>\n",
       "      <th></th>\n",
       "      <th></th>\n",
       "      <th></th>\n",
       "      <th></th>\n",
       "      <th></th>\n",
       "      <th></th>\n",
       "      <th></th>\n",
       "    </tr>\n",
       "  </thead>\n",
       "  <tbody>\n",
       "    <tr>\n",
       "      <th>1</th>\n",
       "      <td>Schedule interviews for Software Engineer.</td>\n",
       "      <td>2025-04-22</td>\n",
       "      <td>2025-04-28</td>\n",
       "      <td>High</td>\n",
       "      <td>HR</td>\n",
       "      <td>Noah</td>\n",
       "      <td>12</td>\n",
       "      <td>HR, Research</td>\n",
       "      <td>9.400249</td>\n",
       "      <td>3</td>\n",
       "    </tr>\n",
       "    <tr>\n",
       "      <th>2</th>\n",
       "      <td>Plan team-building event for Q4.</td>\n",
       "      <td>2025-01-25</td>\n",
       "      <td>2025-01-29</td>\n",
       "      <td>High</td>\n",
       "      <td>HR</td>\n",
       "      <td>Noah</td>\n",
       "      <td>4</td>\n",
       "      <td>HR, Research</td>\n",
       "      <td>9.400249</td>\n",
       "      <td>3</td>\n",
       "    </tr>\n",
       "    <tr>\n",
       "      <th>3</th>\n",
       "      <td>Optimize encryption for performance.</td>\n",
       "      <td>2025-04-05</td>\n",
       "      <td>2025-04-24</td>\n",
       "      <td>Medium</td>\n",
       "      <td>Development</td>\n",
       "      <td>Oscar</td>\n",
       "      <td>7</td>\n",
       "      <td>Development</td>\n",
       "      <td>5.266582</td>\n",
       "      <td>8</td>\n",
       "    </tr>\n",
       "    <tr>\n",
       "      <th>4</th>\n",
       "      <td>Update knowledge base article on troubleshooti...</td>\n",
       "      <td>2025-03-10</td>\n",
       "      <td>2025-03-22</td>\n",
       "      <td>Low</td>\n",
       "      <td>Support</td>\n",
       "      <td>Felix</td>\n",
       "      <td>7</td>\n",
       "      <td>Development</td>\n",
       "      <td>6.326326</td>\n",
       "      <td>5</td>\n",
       "    </tr>\n",
       "    <tr>\n",
       "      <th>5</th>\n",
       "      <td>Update employee records for address change.</td>\n",
       "      <td>2025-03-25</td>\n",
       "      <td>2025-03-30</td>\n",
       "      <td>Medium</td>\n",
       "      <td>HR</td>\n",
       "      <td>Emily</td>\n",
       "      <td>8</td>\n",
       "      <td>HR, Marketing</td>\n",
       "      <td>6.308737</td>\n",
       "      <td>5</td>\n",
       "    </tr>\n",
       "  </tbody>\n",
       "</table>\n",
       "</div>"
      ],
      "text/plain": [
       "                                          task_description creation_date  \\\n",
       "task_id                                                                    \n",
       "1               Schedule interviews for Software Engineer.    2025-04-22   \n",
       "2                         Plan team-building event for Q4.    2025-01-25   \n",
       "3                     Optimize encryption for performance.    2025-04-05   \n",
       "4        Update knowledge base article on troubleshooti...    2025-03-10   \n",
       "5              Update employee records for address change.    2025-03-25   \n",
       "\n",
       "           due_date priority task_category assigned_to  \\\n",
       "task_id                                                  \n",
       "1        2025-04-28     High            HR        Noah   \n",
       "2        2025-01-29     High            HR        Noah   \n",
       "3        2025-04-24   Medium   Development       Oscar   \n",
       "4        2025-03-22      Low       Support       Felix   \n",
       "5        2025-03-30   Medium            HR       Emily   \n",
       "\n",
       "         estimated_effort_hours user_preferred_categories  \\\n",
       "task_id                                                     \n",
       "1                            12              HR, Research   \n",
       "2                             4              HR, Research   \n",
       "3                             7               Development   \n",
       "4                             7               Development   \n",
       "5                             8             HR, Marketing   \n",
       "\n",
       "         user_past_completion_time_avg_hours  user_current_workload  \n",
       "task_id                                                              \n",
       "1                                   9.400249                      3  \n",
       "2                                   9.400249                      3  \n",
       "3                                   5.266582                      8  \n",
       "4                                   6.326326                      5  \n",
       "5                                   6.308737                      5  "
      ]
     },
     "execution_count": 69,
     "metadata": {},
     "output_type": "execute_result"
    }
   ],
   "source": [
    "df = pd.read_csv(\"synthetic_task_dataset.csv\",index_col=0)\n",
    "df.head()"
   ]
  },
  {
   "cell_type": "markdown",
   "id": "793d20b4",
   "metadata": {},
   "source": [
    "EDA"
   ]
  },
  {
   "cell_type": "code",
   "execution_count": 70,
   "id": "6a90ca7c",
   "metadata": {},
   "outputs": [
    {
     "data": {
      "text/plain": [
       "Index(['task_description', 'creation_date', 'due_date', 'priority',\n",
       "       'task_category', 'assigned_to', 'estimated_effort_hours',\n",
       "       'user_preferred_categories', 'user_past_completion_time_avg_hours',\n",
       "       'user_current_workload'],\n",
       "      dtype='object')"
      ]
     },
     "execution_count": 70,
     "metadata": {},
     "output_type": "execute_result"
    }
   ],
   "source": [
    "df.columns"
   ]
  },
  {
   "cell_type": "code",
   "execution_count": 71,
   "id": "1846413e",
   "metadata": {},
   "outputs": [],
   "source": [
    "df.drop(columns=['user_past_completion_time_avg_hours'],inplace = True)"
   ]
  },
  {
   "cell_type": "code",
   "execution_count": 72,
   "id": "afde714b",
   "metadata": {},
   "outputs": [
    {
     "data": {
      "text/plain": [
       "task_description             object\n",
       "creation_date                object\n",
       "due_date                     object\n",
       "priority                     object\n",
       "task_category                object\n",
       "assigned_to                  object\n",
       "estimated_effort_hours        int64\n",
       "user_preferred_categories    object\n",
       "user_current_workload         int64\n",
       "dtype: object"
      ]
     },
     "execution_count": 72,
     "metadata": {},
     "output_type": "execute_result"
    }
   ],
   "source": [
    "df.dtypes"
   ]
  },
  {
   "cell_type": "code",
   "execution_count": 73,
   "id": "15c80083",
   "metadata": {},
   "outputs": [],
   "source": [
    "df['creation_date'] = pd.to_datetime(df['creation_date'])\n",
    "df['due_date'] = pd.to_datetime(df['due_date'])"
   ]
  },
  {
   "cell_type": "code",
   "execution_count": 74,
   "id": "2fa38e3e",
   "metadata": {},
   "outputs": [
    {
     "data": {
      "text/plain": [
       "task_description               0\n",
       "creation_date                  0\n",
       "due_date                     592\n",
       "priority                       0\n",
       "task_category                  0\n",
       "assigned_to                    0\n",
       "estimated_effort_hours         0\n",
       "user_preferred_categories      0\n",
       "user_current_workload          0\n",
       "dtype: int64"
      ]
     },
     "execution_count": 74,
     "metadata": {},
     "output_type": "execute_result"
    }
   ],
   "source": [
    "df.isnull().sum()"
   ]
  },
  {
   "cell_type": "code",
   "execution_count": 75,
   "id": "be3f3dd6",
   "metadata": {},
   "outputs": [],
   "source": [
    "# Create deadline-based features\n",
    "df['days_until_due'] = (df['due_date'] - df['creation_date']).dt.days\n",
    "df['days_until_due'] = df['days_until_due'].fillna(-1)  # -1 = No due date\n",
    "\n",
    "# Add binary indicator\n",
    "df['has_due_date'] = df['due_date'].notnull().astype(int)"
   ]
  },
  {
   "cell_type": "code",
   "execution_count": 76,
   "id": "4fa6139e",
   "metadata": {},
   "outputs": [
    {
     "data": {
      "text/html": [
       "<div>\n",
       "<style scoped>\n",
       "    .dataframe tbody tr th:only-of-type {\n",
       "        vertical-align: middle;\n",
       "    }\n",
       "\n",
       "    .dataframe tbody tr th {\n",
       "        vertical-align: top;\n",
       "    }\n",
       "\n",
       "    .dataframe thead th {\n",
       "        text-align: right;\n",
       "    }\n",
       "</style>\n",
       "<table border=\"1\" class=\"dataframe\">\n",
       "  <thead>\n",
       "    <tr style=\"text-align: right;\">\n",
       "      <th></th>\n",
       "      <th>task_description</th>\n",
       "      <th>creation_date</th>\n",
       "      <th>due_date</th>\n",
       "      <th>priority</th>\n",
       "      <th>task_category</th>\n",
       "      <th>assigned_to</th>\n",
       "      <th>estimated_effort_hours</th>\n",
       "      <th>user_preferred_categories</th>\n",
       "      <th>user_current_workload</th>\n",
       "      <th>days_until_due</th>\n",
       "      <th>has_due_date</th>\n",
       "    </tr>\n",
       "    <tr>\n",
       "      <th>task_id</th>\n",
       "      <th></th>\n",
       "      <th></th>\n",
       "      <th></th>\n",
       "      <th></th>\n",
       "      <th></th>\n",
       "      <th></th>\n",
       "      <th></th>\n",
       "      <th></th>\n",
       "      <th></th>\n",
       "      <th></th>\n",
       "      <th></th>\n",
       "    </tr>\n",
       "  </thead>\n",
       "  <tbody>\n",
       "    <tr>\n",
       "      <th>1</th>\n",
       "      <td>Schedule interviews for Software Engineer.</td>\n",
       "      <td>2025-04-22</td>\n",
       "      <td>2025-04-28</td>\n",
       "      <td>High</td>\n",
       "      <td>HR</td>\n",
       "      <td>Noah</td>\n",
       "      <td>12</td>\n",
       "      <td>HR, Research</td>\n",
       "      <td>3</td>\n",
       "      <td>6.0</td>\n",
       "      <td>1</td>\n",
       "    </tr>\n",
       "    <tr>\n",
       "      <th>2</th>\n",
       "      <td>Plan team-building event for Q4.</td>\n",
       "      <td>2025-01-25</td>\n",
       "      <td>2025-01-29</td>\n",
       "      <td>High</td>\n",
       "      <td>HR</td>\n",
       "      <td>Noah</td>\n",
       "      <td>4</td>\n",
       "      <td>HR, Research</td>\n",
       "      <td>3</td>\n",
       "      <td>4.0</td>\n",
       "      <td>1</td>\n",
       "    </tr>\n",
       "    <tr>\n",
       "      <th>3</th>\n",
       "      <td>Optimize encryption for performance.</td>\n",
       "      <td>2025-04-05</td>\n",
       "      <td>2025-04-24</td>\n",
       "      <td>Medium</td>\n",
       "      <td>Development</td>\n",
       "      <td>Oscar</td>\n",
       "      <td>7</td>\n",
       "      <td>Development</td>\n",
       "      <td>8</td>\n",
       "      <td>19.0</td>\n",
       "      <td>1</td>\n",
       "    </tr>\n",
       "    <tr>\n",
       "      <th>4</th>\n",
       "      <td>Update knowledge base article on troubleshooti...</td>\n",
       "      <td>2025-03-10</td>\n",
       "      <td>2025-03-22</td>\n",
       "      <td>Low</td>\n",
       "      <td>Support</td>\n",
       "      <td>Felix</td>\n",
       "      <td>7</td>\n",
       "      <td>Development</td>\n",
       "      <td>5</td>\n",
       "      <td>12.0</td>\n",
       "      <td>1</td>\n",
       "    </tr>\n",
       "    <tr>\n",
       "      <th>5</th>\n",
       "      <td>Update employee records for address change.</td>\n",
       "      <td>2025-03-25</td>\n",
       "      <td>2025-03-30</td>\n",
       "      <td>Medium</td>\n",
       "      <td>HR</td>\n",
       "      <td>Emily</td>\n",
       "      <td>8</td>\n",
       "      <td>HR, Marketing</td>\n",
       "      <td>5</td>\n",
       "      <td>5.0</td>\n",
       "      <td>1</td>\n",
       "    </tr>\n",
       "  </tbody>\n",
       "</table>\n",
       "</div>"
      ],
      "text/plain": [
       "                                          task_description creation_date  \\\n",
       "task_id                                                                    \n",
       "1               Schedule interviews for Software Engineer.    2025-04-22   \n",
       "2                         Plan team-building event for Q4.    2025-01-25   \n",
       "3                     Optimize encryption for performance.    2025-04-05   \n",
       "4        Update knowledge base article on troubleshooti...    2025-03-10   \n",
       "5              Update employee records for address change.    2025-03-25   \n",
       "\n",
       "          due_date priority task_category assigned_to  estimated_effort_hours  \\\n",
       "task_id                                                                         \n",
       "1       2025-04-28     High            HR        Noah                      12   \n",
       "2       2025-01-29     High            HR        Noah                       4   \n",
       "3       2025-04-24   Medium   Development       Oscar                       7   \n",
       "4       2025-03-22      Low       Support       Felix                       7   \n",
       "5       2025-03-30   Medium            HR       Emily                       8   \n",
       "\n",
       "        user_preferred_categories  user_current_workload  days_until_due  \\\n",
       "task_id                                                                    \n",
       "1                    HR, Research                      3             6.0   \n",
       "2                    HR, Research                      3             4.0   \n",
       "3                     Development                      8            19.0   \n",
       "4                     Development                      5            12.0   \n",
       "5                   HR, Marketing                      5             5.0   \n",
       "\n",
       "         has_due_date  \n",
       "task_id                \n",
       "1                   1  \n",
       "2                   1  \n",
       "3                   1  \n",
       "4                   1  \n",
       "5                   1  "
      ]
     },
     "execution_count": 76,
     "metadata": {},
     "output_type": "execute_result"
    }
   ],
   "source": [
    "df.head()"
   ]
  },
  {
   "cell_type": "code",
   "execution_count": 77,
   "id": "8febdddb",
   "metadata": {},
   "outputs": [
    {
     "data": {
      "image/png": "[encoded data removed]",
      "text/plain": [
       "<Figure size 1000x400 with 1 Axes>"
      ]
     },
     "metadata": {},
     "output_type": "display_data"
    }
   ],
   "source": [
    "# Task Category Count Plot\n",
    "df['task_category'].value_counts().plot(kind='bar', figsize=(10, 4), color='skyblue', title='Task Category Distribution')\n",
    "plt.xlabel('Task Category')\n",
    "plt.ylabel('Count')\n",
    "plt.xticks(rotation=45)\n",
    "plt.grid(axis='y', linestyle='--', alpha=0.7)\n",
    "plt.show()"
   ]
  },
  {
   "cell_type": "code",
   "execution_count": 78,
   "id": "c2ef2299",
   "metadata": {},
   "outputs": [
    {
     "data": {
      "image/png": "[encoded data removed]",
      "text/plain": [
       "<Figure size 640x480 with 1 Axes>"
      ]
     },
     "metadata": {},
     "output_type": "display_data"
    }
   ],
   "source": [
    "\n",
    "# Priority Count Plot\n",
    "df['priority'].value_counts().loc[['Low', 'Medium', 'High', 'Critical']].plot(kind='bar', color='orange', title='Task Priority Distribution')\n",
    "plt.xlabel('Priority')\n",
    "plt.ylabel('Count')\n",
    "plt.grid(axis='y', linestyle='--', alpha=0.7)\n",
    "plt.tight_layout()\n",
    "plt.show()"
   ]
  },
  {
   "cell_type": "code",
   "execution_count": 79,
   "id": "e7f0ef37",
   "metadata": {},
   "outputs": [
    {
     "data": {
      "image/png": "[encoded data removed]",
      "text/plain": [
       "<Figure size 800x400 with 1 Axes>"
      ]
     },
     "metadata": {},
     "output_type": "display_data"
    }
   ],
   "source": [
    "# Days Until Due Histogram\n",
    "plt.figure(figsize=(8, 4))\n",
    "plt.hist(df['days_until_due'], bins=30, color='purple', edgecolor='black')\n",
    "plt.title('Days Until Task Due')\n",
    "plt.xlabel('Days Until Due')\n",
    "plt.ylabel('Number of Tasks')\n",
    "plt.grid(axis='y', linestyle='--', alpha=0.7)\n",
    "plt.tight_layout()\n",
    "plt.show()"
   ]
  },
  {
   "cell_type": "markdown",
   "id": "e1d2068e",
   "metadata": {},
   "source": [
    "NLP Preprocessing"
   ]
  },
  {
   "cell_type": "code",
   "execution_count": 80,
   "id": "881b912c",
   "metadata": {},
   "outputs": [],
   "source": [
    "from nltk.stem import PorterStemmer\n",
    "from nltk.tokenize import word_tokenize\n",
    "stop_words = set(stopwords.words('english'))\n",
    "stemmer = PorterStemmer()\n",
    "\n",
    "def preprocess_text(text):\n",
    "    # Lowercase\n",
    "    text = text.lower()\n",
    "    \n",
    "    # Remove punctuation & numbers\n",
    "    text = re.sub(r'\\d+', '', text)\n",
    "    text = text.translate(str.maketrans('', '', string.punctuation))\n",
    "    \n",
    "    # Tokenize\n",
    "    tokens = word_tokenize(text)\n",
    "    \n",
    "    # Remove stopwords and apply stemming\n",
    "    cleaned = [stemmer.stem(word) for word in tokens if word not in stop_words]\n",
    "    \n",
    "    return \" \".join(cleaned)\n",
    "\n"
   ]
  },
  {
   "cell_type": "code",
   "execution_count": 84,
   "id": "5b8b812c",
   "metadata": {},
   "outputs": [
    {
     "data": {
      "text/html": [
       "<div>\n",
       "<style scoped>\n",
       "    .dataframe tbody tr th:only-of-type {\n",
       "        vertical-align: middle;\n",
       "    }\n",
       "\n",
       "    .dataframe tbody tr th {\n",
       "        vertical-align: top;\n",
       "    }\n",
       "\n",
       "    .dataframe thead th {\n",
       "        text-align: right;\n",
       "    }\n",
       "</style>\n",
       "<table border=\"1\" class=\"dataframe\">\n",
       "  <thead>\n",
       "    <tr style=\"text-align: right;\">\n",
       "      <th></th>\n",
       "      <th>task_description</th>\n",
       "      <th>clean_description</th>\n",
       "    </tr>\n",
       "    <tr>\n",
       "      <th>task_id</th>\n",
       "      <th></th>\n",
       "      <th></th>\n",
       "    </tr>\n",
       "  </thead>\n",
       "  <tbody>\n",
       "    <tr>\n",
       "      <th>1</th>\n",
       "      <td>Schedule interviews for Software Engineer.</td>\n",
       "      <td>schedul interview softwar engin</td>\n",
       "    </tr>\n",
       "    <tr>\n",
       "      <th>2</th>\n",
       "      <td>Plan team-building event for Q4.</td>\n",
       "      <td>plan teambuild event q</td>\n",
       "    </tr>\n",
       "    <tr>\n",
       "      <th>3</th>\n",
       "      <td>Optimize encryption for performance.</td>\n",
       "      <td>optim encrypt perform</td>\n",
       "    </tr>\n",
       "    <tr>\n",
       "      <th>4</th>\n",
       "      <td>Update knowledge base article on troubleshooti...</td>\n",
       "      <td>updat knowledg base articl troubleshoot guid</td>\n",
       "    </tr>\n",
       "    <tr>\n",
       "      <th>5</th>\n",
       "      <td>Update employee records for address change.</td>\n",
       "      <td>updat employe record address chang</td>\n",
       "    </tr>\n",
       "  </tbody>\n",
       "</table>\n",
       "</div>"
      ],
      "text/plain": [
       "                                          task_description  \\\n",
       "task_id                                                      \n",
       "1               Schedule interviews for Software Engineer.   \n",
       "2                         Plan team-building event for Q4.   \n",
       "3                     Optimize encryption for performance.   \n",
       "4        Update knowledge base article on troubleshooti...   \n",
       "5              Update employee records for address change.   \n",
       "\n",
       "                                    clean_description  \n",
       "task_id                                                \n",
       "1                     schedul interview softwar engin  \n",
       "2                              plan teambuild event q  \n",
       "3                               optim encrypt perform  \n",
       "4        updat knowledg base articl troubleshoot guid  \n",
       "5                  updat employe record address chang  "
      ]
     },
     "execution_count": 84,
     "metadata": {},
     "output_type": "execute_result"
    }
   ],
   "source": [
    "df['clean_description'] = df['task_description'].apply(preprocess_text)\n",
    "df[['task_description', 'clean_description']].head()\n"
   ]
  },
  {
   "cell_type": "code",
   "execution_count": null,
   "id": "61dd07a0",
   "metadata": {},
   "outputs": [],
   "source": []
  }
 ],
 "metadata": {
  "kernelspec": {
   "display_name": "pyenv",
   "language": "python",
   "name": "python3"
  },
  "language_info": {
   "codemirror_mode": {
    "name": "ipython",
    "version": 3
   },
   "file_extension": ".py",
   "mimetype": "text/x-python",
   "name": "python",
   "nbconvert_exporter": "python",
   "pygments_lexer": "ipython3",
   "version": "3.13.2"
  }
 },
 "nbformat": 4,
 "nbformat_minor": 5
}
